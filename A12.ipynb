{
  "cells": [
    {
      "cell_type": "code",
      "execution_count": 2,
      "metadata": {
        "colab": {
          "base_uri": "https://localhost:8080/"
        },
        "id": "UK3qKg2cB3K4",
        "outputId": "b294539c-f59e-4045-88b8-801b081fddf9"
      },
      "outputs": [
        {
          "name": "stdout",
          "output_type": "stream",
          "text": [
            "Requirement already satisfied: tiktoken in /usr/local/lib/python3.11/dist-packages (0.8.0)\n",
            "Requirement already satisfied: regex>=2022.1.18 in /usr/local/lib/python3.11/dist-packages (from tiktoken) (2024.11.6)\n",
            "Requirement already satisfied: requests>=2.26.0 in /usr/local/lib/python3.11/dist-packages (from tiktoken) (2.32.3)\n",
            "Requirement already satisfied: charset-normalizer<4,>=2 in /usr/local/lib/python3.11/dist-packages (from requests>=2.26.0->tiktoken) (3.4.1)\n",
            "Requirement already satisfied: idna<4,>=2.5 in /usr/local/lib/python3.11/dist-packages (from requests>=2.26.0->tiktoken) (3.10)\n",
            "Requirement already satisfied: urllib3<3,>=1.21.1 in /usr/local/lib/python3.11/dist-packages (from requests>=2.26.0->tiktoken) (2.3.0)\n",
            "Requirement already satisfied: certifi>=2017.4.17 in /usr/local/lib/python3.11/dist-packages (from requests>=2.26.0->tiktoken) (2024.12.14)\n",
            "using device: cuda\n",
            "Total parameters: 124,439,808\n"
          ]
        },
        {
          "name": "stderr",
          "output_type": "stream",
          "text": [
            "Epoch 1/90: 100%|██████████| 660/660 [01:45<00:00,  6.26batch/s, loss=5.4918]\n"
          ]
        },
        {
          "name": "stdout",
          "output_type": "stream",
          "text": [
            "Epoch 1 completed. Loss: 5.4918\n",
            "Best loss - saving model\n"
          ]
        },
        {
          "name": "stderr",
          "output_type": "stream",
          "text": [
            "Epoch 2/90: 100%|██████████| 660/660 [01:45<00:00,  6.23batch/s, loss=4.8950]\n"
          ]
        },
        {
          "name": "stdout",
          "output_type": "stream",
          "text": [
            "Epoch 2 completed. Loss: 4.8950\n",
            "Best loss - saving model\n"
          ]
        },
        {
          "name": "stderr",
          "output_type": "stream",
          "text": [
            "Epoch 3/90: 100%|██████████| 660/660 [01:45<00:00,  6.24batch/s, loss=4.5925]\n"
          ]
        },
        {
          "name": "stdout",
          "output_type": "stream",
          "text": [
            "Epoch 3 completed. Loss: 4.5925\n",
            "Best loss - saving model\n"
          ]
        },
        {
          "name": "stderr",
          "output_type": "stream",
          "text": [
            "Epoch 4/90: 100%|██████████| 660/660 [01:45<00:00,  6.24batch/s, loss=4.3560]\n"
          ]
        },
        {
          "name": "stdout",
          "output_type": "stream",
          "text": [
            "Epoch 4 completed. Loss: 4.3560\n",
            "Best loss - saving model\n"
          ]
        },
        {
          "name": "stderr",
          "output_type": "stream",
          "text": [
            "Epoch 5/90: 100%|██████████| 660/660 [01:46<00:00,  6.22batch/s, loss=4.1164]\n"
          ]
        },
        {
          "name": "stdout",
          "output_type": "stream",
          "text": [
            "Epoch 5 completed. Loss: 4.1164\n",
            "Best loss - saving model\n"
          ]
        },
        {
          "name": "stderr",
          "output_type": "stream",
          "text": [
            "Epoch 6/90: 100%|██████████| 660/660 [01:46<00:00,  6.21batch/s, loss=3.9321]\n"
          ]
        },
        {
          "name": "stdout",
          "output_type": "stream",
          "text": [
            "Epoch 6 completed. Loss: 3.9321\n",
            "Best loss - saving model\n"
          ]
        },
        {
          "name": "stderr",
          "output_type": "stream",
          "text": [
            "Epoch 7/90: 100%|██████████| 660/660 [01:46<00:00,  6.22batch/s, loss=3.7683]\n"
          ]
        },
        {
          "name": "stdout",
          "output_type": "stream",
          "text": [
            "Epoch 7 completed. Loss: 3.7683\n",
            "Best loss - saving model\n"
          ]
        },
        {
          "name": "stderr",
          "output_type": "stream",
          "text": [
            "Epoch 8/90: 100%|██████████| 660/660 [01:46<00:00,  6.22batch/s, loss=3.6156]\n"
          ]
        },
        {
          "name": "stdout",
          "output_type": "stream",
          "text": [
            "Epoch 8 completed. Loss: 3.6156\n",
            "Best loss - saving model\n"
          ]
        },
        {
          "name": "stderr",
          "output_type": "stream",
          "text": [
            "Epoch 9/90: 100%|██████████| 660/660 [01:46<00:00,  6.22batch/s, loss=3.4750]\n"
          ]
        },
        {
          "name": "stdout",
          "output_type": "stream",
          "text": [
            "Epoch 9 completed. Loss: 3.4750\n",
            "Best loss - saving model\n"
          ]
        },
        {
          "name": "stderr",
          "output_type": "stream",
          "text": [
            "Epoch 10/90: 100%|██████████| 660/660 [01:46<00:00,  6.22batch/s, loss=3.3363]\n"
          ]
        },
        {
          "name": "stdout",
          "output_type": "stream",
          "text": [
            "Epoch 10 completed. Loss: 3.3363\n",
            "Best loss - saving model\n"
          ]
        },
        {
          "name": "stderr",
          "output_type": "stream",
          "text": [
            "Epoch 11/90: 100%|██████████| 660/660 [01:46<00:00,  6.21batch/s, loss=3.2447]\n"
          ]
        },
        {
          "name": "stdout",
          "output_type": "stream",
          "text": [
            "Epoch 11 completed. Loss: 3.2447\n",
            "Best loss - saving model\n"
          ]
        },
        {
          "name": "stderr",
          "output_type": "stream",
          "text": [
            "Epoch 12/90: 100%|██████████| 660/660 [01:46<00:00,  6.21batch/s, loss=3.1299]\n"
          ]
        },
        {
          "name": "stdout",
          "output_type": "stream",
          "text": [
            "Epoch 12 completed. Loss: 3.1299\n",
            "Best loss - saving model\n"
          ]
        },
        {
          "name": "stderr",
          "output_type": "stream",
          "text": [
            "Epoch 13/90: 100%|██████████| 660/660 [01:46<00:00,  6.20batch/s, loss=3.0587]\n"
          ]
        },
        {
          "name": "stdout",
          "output_type": "stream",
          "text": [
            "Epoch 13 completed. Loss: 3.0587\n",
            "Best loss - saving model\n"
          ]
        },
        {
          "name": "stderr",
          "output_type": "stream",
          "text": [
            "Epoch 14/90: 100%|██████████| 660/660 [01:46<00:00,  6.21batch/s, loss=2.9454]\n"
          ]
        },
        {
          "name": "stdout",
          "output_type": "stream",
          "text": [
            "Epoch 14 completed. Loss: 2.9454\n",
            "Best loss - saving model\n"
          ]
        },
        {
          "name": "stderr",
          "output_type": "stream",
          "text": [
            "Epoch 15/90: 100%|██████████| 660/660 [01:46<00:00,  6.21batch/s, loss=2.8435]\n"
          ]
        },
        {
          "name": "stdout",
          "output_type": "stream",
          "text": [
            "Epoch 15 completed. Loss: 2.8435\n",
            "Best loss - saving model\n"
          ]
        },
        {
          "name": "stderr",
          "output_type": "stream",
          "text": [
            "Epoch 16/90: 100%|██████████| 660/660 [01:46<00:00,  6.22batch/s, loss=2.7982]\n"
          ]
        },
        {
          "name": "stdout",
          "output_type": "stream",
          "text": [
            "Epoch 16 completed. Loss: 2.7982\n",
            "Best loss - saving model\n"
          ]
        },
        {
          "name": "stderr",
          "output_type": "stream",
          "text": [
            "Epoch 17/90: 100%|██████████| 660/660 [01:45<00:00,  6.23batch/s, loss=2.7205]\n"
          ]
        },
        {
          "name": "stdout",
          "output_type": "stream",
          "text": [
            "Epoch 17 completed. Loss: 2.7205\n",
            "Best loss - saving model\n"
          ]
        },
        {
          "name": "stderr",
          "output_type": "stream",
          "text": [
            "Epoch 18/90: 100%|██████████| 660/660 [01:45<00:00,  6.23batch/s, loss=2.6246]\n"
          ]
        },
        {
          "name": "stdout",
          "output_type": "stream",
          "text": [
            "Epoch 18 completed. Loss: 2.6246\n",
            "Best loss - saving model\n"
          ]
        },
        {
          "name": "stderr",
          "output_type": "stream",
          "text": [
            "Epoch 19/90: 100%|██████████| 660/660 [01:45<00:00,  6.24batch/s, loss=2.5396]\n"
          ]
        },
        {
          "name": "stdout",
          "output_type": "stream",
          "text": [
            "Epoch 19 completed. Loss: 2.5396\n",
            "Best loss - saving model\n"
          ]
        },
        {
          "name": "stderr",
          "output_type": "stream",
          "text": [
            "Epoch 20/90: 100%|██████████| 660/660 [01:45<00:00,  6.23batch/s, loss=2.4499]\n"
          ]
        },
        {
          "name": "stdout",
          "output_type": "stream",
          "text": [
            "Epoch 20 completed. Loss: 2.4499\n",
            "Best loss - saving model\n"
          ]
        },
        {
          "name": "stderr",
          "output_type": "stream",
          "text": [
            "Epoch 21/90: 100%|██████████| 660/660 [01:45<00:00,  6.23batch/s, loss=2.3935]\n"
          ]
        },
        {
          "name": "stdout",
          "output_type": "stream",
          "text": [
            "Epoch 21 completed. Loss: 2.3935\n",
            "Best loss - saving model\n"
          ]
        },
        {
          "name": "stderr",
          "output_type": "stream",
          "text": [
            "Epoch 22/90: 100%|██████████| 660/660 [01:45<00:00,  6.23batch/s, loss=2.3740]\n"
          ]
        },
        {
          "name": "stdout",
          "output_type": "stream",
          "text": [
            "Epoch 22 completed. Loss: 2.3740\n",
            "Best loss - saving model\n"
          ]
        },
        {
          "name": "stderr",
          "output_type": "stream",
          "text": [
            "Epoch 23/90: 100%|██████████| 660/660 [01:45<00:00,  6.24batch/s, loss=2.2681]\n"
          ]
        },
        {
          "name": "stdout",
          "output_type": "stream",
          "text": [
            "Epoch 23 completed. Loss: 2.2681\n",
            "Best loss - saving model\n"
          ]
        },
        {
          "name": "stderr",
          "output_type": "stream",
          "text": [
            "Epoch 24/90: 100%|██████████| 660/660 [01:45<00:00,  6.23batch/s, loss=2.1746]\n"
          ]
        },
        {
          "name": "stdout",
          "output_type": "stream",
          "text": [
            "Epoch 24 completed. Loss: 2.1746\n",
            "Best loss - saving model\n"
          ]
        },
        {
          "name": "stderr",
          "output_type": "stream",
          "text": [
            "Epoch 25/90: 100%|██████████| 660/660 [01:45<00:00,  6.23batch/s, loss=2.1314]\n"
          ]
        },
        {
          "name": "stdout",
          "output_type": "stream",
          "text": [
            "Epoch 25 completed. Loss: 2.1314\n",
            "Best loss - saving model\n"
          ]
        },
        {
          "name": "stderr",
          "output_type": "stream",
          "text": [
            "Epoch 26/90: 100%|██████████| 660/660 [01:45<00:00,  6.23batch/s, loss=2.0392]\n"
          ]
        },
        {
          "name": "stdout",
          "output_type": "stream",
          "text": [
            "Epoch 26 completed. Loss: 2.0392\n",
            "Best loss - saving model\n"
          ]
        },
        {
          "name": "stderr",
          "output_type": "stream",
          "text": [
            "Epoch 27/90: 100%|██████████| 660/660 [01:45<00:00,  6.24batch/s, loss=1.9383]\n"
          ]
        },
        {
          "name": "stdout",
          "output_type": "stream",
          "text": [
            "Epoch 27 completed. Loss: 1.9383\n",
            "Best loss - saving model\n"
          ]
        },
        {
          "name": "stderr",
          "output_type": "stream",
          "text": [
            "Epoch 28/90: 100%|██████████| 660/660 [01:45<00:00,  6.24batch/s, loss=1.8200]\n"
          ]
        },
        {
          "name": "stdout",
          "output_type": "stream",
          "text": [
            "Epoch 28 completed. Loss: 1.8200\n",
            "Best loss - saving model\n"
          ]
        },
        {
          "name": "stderr",
          "output_type": "stream",
          "text": [
            "Epoch 29/90: 100%|██████████| 660/660 [01:45<00:00,  6.24batch/s, loss=1.6921]\n"
          ]
        },
        {
          "name": "stdout",
          "output_type": "stream",
          "text": [
            "Epoch 29 completed. Loss: 1.6921\n",
            "Best loss - saving model\n"
          ]
        },
        {
          "name": "stderr",
          "output_type": "stream",
          "text": [
            "Epoch 30/90: 100%|██████████| 660/660 [01:45<00:00,  6.24batch/s, loss=1.6620]\n"
          ]
        },
        {
          "name": "stdout",
          "output_type": "stream",
          "text": [
            "Epoch 30 completed. Loss: 1.6620\n",
            "Best loss - saving model\n"
          ]
        },
        {
          "name": "stderr",
          "output_type": "stream",
          "text": [
            "Epoch 31/90: 100%|██████████| 660/660 [01:45<00:00,  6.24batch/s, loss=1.4790]\n"
          ]
        },
        {
          "name": "stdout",
          "output_type": "stream",
          "text": [
            "Epoch 31 completed. Loss: 1.4790\n",
            "Best loss - saving model\n"
          ]
        },
        {
          "name": "stderr",
          "output_type": "stream",
          "text": [
            "Epoch 32/90: 100%|██████████| 660/660 [01:45<00:00,  6.24batch/s, loss=1.3975]\n"
          ]
        },
        {
          "name": "stdout",
          "output_type": "stream",
          "text": [
            "Epoch 32 completed. Loss: 1.3975\n",
            "Best loss - saving model\n"
          ]
        },
        {
          "name": "stderr",
          "output_type": "stream",
          "text": [
            "Epoch 33/90: 100%|██████████| 660/660 [01:45<00:00,  6.24batch/s, loss=1.3120]\n"
          ]
        },
        {
          "name": "stdout",
          "output_type": "stream",
          "text": [
            "Epoch 33 completed. Loss: 1.3120\n",
            "Best loss - saving model\n"
          ]
        },
        {
          "name": "stderr",
          "output_type": "stream",
          "text": [
            "Epoch 34/90: 100%|██████████| 660/660 [01:45<00:00,  6.25batch/s, loss=1.1567]\n"
          ]
        },
        {
          "name": "stdout",
          "output_type": "stream",
          "text": [
            "Epoch 34 completed. Loss: 1.1567\n",
            "Best loss - saving model\n"
          ]
        },
        {
          "name": "stderr",
          "output_type": "stream",
          "text": [
            "Epoch 35/90: 100%|██████████| 660/660 [01:45<00:00,  6.24batch/s, loss=1.0422]\n"
          ]
        },
        {
          "name": "stdout",
          "output_type": "stream",
          "text": [
            "Epoch 35 completed. Loss: 1.0422\n",
            "Best loss - saving model\n"
          ]
        },
        {
          "name": "stderr",
          "output_type": "stream",
          "text": [
            "Epoch 36/90: 100%|██████████| 660/660 [01:45<00:00,  6.26batch/s, loss=0.9954]\n"
          ]
        },
        {
          "name": "stdout",
          "output_type": "stream",
          "text": [
            "Epoch 36 completed. Loss: 0.9954\n",
            "Best loss - saving model\n"
          ]
        },
        {
          "name": "stderr",
          "output_type": "stream",
          "text": [
            "Epoch 37/90: 100%|██████████| 660/660 [01:45<00:00,  6.25batch/s, loss=0.8542]\n"
          ]
        },
        {
          "name": "stdout",
          "output_type": "stream",
          "text": [
            "Epoch 37 completed. Loss: 0.8542\n",
            "Best loss - saving model\n"
          ]
        },
        {
          "name": "stderr",
          "output_type": "stream",
          "text": [
            "Epoch 38/90: 100%|██████████| 660/660 [01:45<00:00,  6.24batch/s, loss=0.7791]\n"
          ]
        },
        {
          "name": "stdout",
          "output_type": "stream",
          "text": [
            "Epoch 38 completed. Loss: 0.7791\n",
            "Best loss - saving model\n"
          ]
        },
        {
          "name": "stderr",
          "output_type": "stream",
          "text": [
            "Epoch 39/90: 100%|██████████| 660/660 [01:45<00:00,  6.24batch/s, loss=0.6613]\n"
          ]
        },
        {
          "name": "stdout",
          "output_type": "stream",
          "text": [
            "Epoch 39 completed. Loss: 0.6613\n",
            "Best loss - saving model\n"
          ]
        },
        {
          "name": "stderr",
          "output_type": "stream",
          "text": [
            "Epoch 40/90: 100%|██████████| 660/660 [01:45<00:00,  6.24batch/s, loss=0.5888]\n"
          ]
        },
        {
          "name": "stdout",
          "output_type": "stream",
          "text": [
            "Epoch 40 completed. Loss: 0.5888\n",
            "Best loss - saving model\n"
          ]
        },
        {
          "name": "stderr",
          "output_type": "stream",
          "text": [
            "Epoch 41/90: 100%|██████████| 660/660 [01:45<00:00,  6.24batch/s, loss=0.5474]\n"
          ]
        },
        {
          "name": "stdout",
          "output_type": "stream",
          "text": [
            "Epoch 41 completed. Loss: 0.5474\n",
            "Best loss - saving model\n"
          ]
        },
        {
          "name": "stderr",
          "output_type": "stream",
          "text": [
            "Epoch 42/90: 100%|██████████| 660/660 [01:45<00:00,  6.24batch/s, loss=0.5108]\n"
          ]
        },
        {
          "name": "stdout",
          "output_type": "stream",
          "text": [
            "Epoch 42 completed. Loss: 0.5108\n",
            "Best loss - saving model\n"
          ]
        },
        {
          "name": "stderr",
          "output_type": "stream",
          "text": [
            "Epoch 43/90: 100%|██████████| 660/660 [01:45<00:00,  6.24batch/s, loss=0.4622]\n"
          ]
        },
        {
          "name": "stdout",
          "output_type": "stream",
          "text": [
            "Epoch 43 completed. Loss: 0.4622\n",
            "Best loss - saving model\n"
          ]
        },
        {
          "name": "stderr",
          "output_type": "stream",
          "text": [
            "Epoch 44/90: 100%|██████████| 660/660 [01:45<00:00,  6.25batch/s, loss=0.4213]\n"
          ]
        },
        {
          "name": "stdout",
          "output_type": "stream",
          "text": [
            "Epoch 44 completed. Loss: 0.4213\n",
            "Best loss - saving model\n"
          ]
        },
        {
          "name": "stderr",
          "output_type": "stream",
          "text": [
            "Epoch 45/90: 100%|██████████| 660/660 [01:45<00:00,  6.24batch/s, loss=0.4053]\n"
          ]
        },
        {
          "name": "stdout",
          "output_type": "stream",
          "text": [
            "Epoch 45 completed. Loss: 0.4053\n",
            "Best loss - saving model\n"
          ]
        },
        {
          "name": "stderr",
          "output_type": "stream",
          "text": [
            "Epoch 46/90: 100%|██████████| 660/660 [01:46<00:00,  6.22batch/s, loss=0.3448]\n"
          ]
        },
        {
          "name": "stdout",
          "output_type": "stream",
          "text": [
            "Epoch 46 completed. Loss: 0.3448\n",
            "Best loss - saving model\n"
          ]
        },
        {
          "name": "stderr",
          "output_type": "stream",
          "text": [
            "Epoch 47/90: 100%|██████████| 660/660 [01:45<00:00,  6.23batch/s, loss=0.2981]\n"
          ]
        },
        {
          "name": "stdout",
          "output_type": "stream",
          "text": [
            "Epoch 47 completed. Loss: 0.2981\n",
            "Best loss - saving model\n"
          ]
        },
        {
          "name": "stderr",
          "output_type": "stream",
          "text": [
            "Epoch 48/90: 100%|██████████| 660/660 [01:45<00:00,  6.24batch/s, loss=0.2970]\n"
          ]
        },
        {
          "name": "stdout",
          "output_type": "stream",
          "text": [
            "Epoch 48 completed. Loss: 0.2970\n",
            "Best loss - saving model\n"
          ]
        },
        {
          "name": "stderr",
          "output_type": "stream",
          "text": [
            "Epoch 49/90: 100%|██████████| 660/660 [01:45<00:00,  6.24batch/s, loss=0.3033]\n"
          ]
        },
        {
          "name": "stdout",
          "output_type": "stream",
          "text": [
            "Epoch 49 completed. Loss: 0.3033\n"
          ]
        },
        {
          "name": "stderr",
          "output_type": "stream",
          "text": [
            "Epoch 50/90: 100%|██████████| 660/660 [01:45<00:00,  6.24batch/s, loss=0.2819]\n"
          ]
        },
        {
          "name": "stdout",
          "output_type": "stream",
          "text": [
            "Epoch 50 completed. Loss: 0.2819\n",
            "Best loss - saving model\n"
          ]
        },
        {
          "name": "stderr",
          "output_type": "stream",
          "text": [
            "Epoch 51/90: 100%|██████████| 660/660 [01:45<00:00,  6.24batch/s, loss=0.2678]\n"
          ]
        },
        {
          "name": "stdout",
          "output_type": "stream",
          "text": [
            "Epoch 51 completed. Loss: 0.2678\n",
            "Best loss - saving model\n"
          ]
        },
        {
          "name": "stderr",
          "output_type": "stream",
          "text": [
            "Epoch 52/90: 100%|██████████| 660/660 [01:45<00:00,  6.25batch/s, loss=0.2669]\n"
          ]
        },
        {
          "name": "stdout",
          "output_type": "stream",
          "text": [
            "Epoch 52 completed. Loss: 0.2669\n",
            "Best loss - saving model\n"
          ]
        },
        {
          "name": "stderr",
          "output_type": "stream",
          "text": [
            "Epoch 53/90: 100%|██████████| 660/660 [01:45<00:00,  6.24batch/s, loss=0.2346]\n"
          ]
        },
        {
          "name": "stdout",
          "output_type": "stream",
          "text": [
            "Epoch 53 completed. Loss: 0.2346\n",
            "Best loss - saving model\n"
          ]
        },
        {
          "name": "stderr",
          "output_type": "stream",
          "text": [
            "Epoch 54/90: 100%|██████████| 660/660 [01:45<00:00,  6.23batch/s, loss=0.2218]\n"
          ]
        },
        {
          "name": "stdout",
          "output_type": "stream",
          "text": [
            "Epoch 54 completed. Loss: 0.2218\n",
            "Best loss - saving model\n"
          ]
        },
        {
          "name": "stderr",
          "output_type": "stream",
          "text": [
            "Epoch 55/90: 100%|██████████| 660/660 [01:45<00:00,  6.23batch/s, loss=0.2377]\n"
          ]
        },
        {
          "name": "stdout",
          "output_type": "stream",
          "text": [
            "Epoch 55 completed. Loss: 0.2377\n"
          ]
        },
        {
          "name": "stderr",
          "output_type": "stream",
          "text": [
            "Epoch 56/90: 100%|██████████| 660/660 [01:46<00:00,  6.21batch/s, loss=0.2414]\n"
          ]
        },
        {
          "name": "stdout",
          "output_type": "stream",
          "text": [
            "Epoch 56 completed. Loss: 0.2414\n"
          ]
        },
        {
          "name": "stderr",
          "output_type": "stream",
          "text": [
            "Epoch 57/90: 100%|██████████| 660/660 [01:46<00:00,  6.21batch/s, loss=0.1986]\n"
          ]
        },
        {
          "name": "stdout",
          "output_type": "stream",
          "text": [
            "Epoch 57 completed. Loss: 0.1986\n",
            "Best loss - saving model\n"
          ]
        },
        {
          "name": "stderr",
          "output_type": "stream",
          "text": [
            "Epoch 58/90: 100%|██████████| 660/660 [01:45<00:00,  6.24batch/s, loss=0.1945]\n"
          ]
        },
        {
          "name": "stdout",
          "output_type": "stream",
          "text": [
            "Epoch 58 completed. Loss: 0.1945\n",
            "Best loss - saving model\n"
          ]
        },
        {
          "name": "stderr",
          "output_type": "stream",
          "text": [
            "Epoch 59/90: 100%|██████████| 660/660 [01:45<00:00,  6.24batch/s, loss=0.2048]\n"
          ]
        },
        {
          "name": "stdout",
          "output_type": "stream",
          "text": [
            "Epoch 59 completed. Loss: 0.2048\n"
          ]
        },
        {
          "name": "stderr",
          "output_type": "stream",
          "text": [
            "Epoch 60/90: 100%|██████████| 660/660 [01:45<00:00,  6.23batch/s, loss=0.1914]\n"
          ]
        },
        {
          "name": "stdout",
          "output_type": "stream",
          "text": [
            "Epoch 60 completed. Loss: 0.1914\n",
            "Best loss - saving model\n"
          ]
        },
        {
          "name": "stderr",
          "output_type": "stream",
          "text": [
            "Epoch 61/90: 100%|██████████| 660/660 [01:46<00:00,  6.23batch/s, loss=0.1780]\n"
          ]
        },
        {
          "name": "stdout",
          "output_type": "stream",
          "text": [
            "Epoch 61 completed. Loss: 0.1780\n",
            "Best loss - saving model\n"
          ]
        },
        {
          "name": "stderr",
          "output_type": "stream",
          "text": [
            "Epoch 62/90: 100%|██████████| 660/660 [01:45<00:00,  6.24batch/s, loss=0.1693]\n"
          ]
        },
        {
          "name": "stdout",
          "output_type": "stream",
          "text": [
            "Epoch 62 completed. Loss: 0.1693\n",
            "Best loss - saving model\n"
          ]
        },
        {
          "name": "stderr",
          "output_type": "stream",
          "text": [
            "Epoch 63/90: 100%|██████████| 660/660 [01:45<00:00,  6.23batch/s, loss=0.1636]\n"
          ]
        },
        {
          "name": "stdout",
          "output_type": "stream",
          "text": [
            "Epoch 63 completed. Loss: 0.1636\n",
            "Best loss - saving model\n"
          ]
        },
        {
          "name": "stderr",
          "output_type": "stream",
          "text": [
            "Epoch 64/90: 100%|██████████| 660/660 [01:45<00:00,  6.23batch/s, loss=0.1625]\n"
          ]
        },
        {
          "name": "stdout",
          "output_type": "stream",
          "text": [
            "Epoch 64 completed. Loss: 0.1625\n",
            "Best loss - saving model\n"
          ]
        },
        {
          "name": "stderr",
          "output_type": "stream",
          "text": [
            "Epoch 65/90: 100%|██████████| 660/660 [01:45<00:00,  6.23batch/s, loss=0.1528]\n"
          ]
        },
        {
          "name": "stdout",
          "output_type": "stream",
          "text": [
            "Epoch 65 completed. Loss: 0.1528\n",
            "Best loss - saving model\n"
          ]
        },
        {
          "name": "stderr",
          "output_type": "stream",
          "text": [
            "Epoch 66/90: 100%|██████████| 660/660 [01:46<00:00,  6.22batch/s, loss=0.1453]\n"
          ]
        },
        {
          "name": "stdout",
          "output_type": "stream",
          "text": [
            "Epoch 66 completed. Loss: 0.1453\n",
            "Best loss - saving model\n"
          ]
        },
        {
          "name": "stderr",
          "output_type": "stream",
          "text": [
            "Epoch 67/90: 100%|██████████| 660/660 [01:46<00:00,  6.22batch/s, loss=0.1477]\n"
          ]
        },
        {
          "name": "stdout",
          "output_type": "stream",
          "text": [
            "Epoch 67 completed. Loss: 0.1477\n"
          ]
        },
        {
          "name": "stderr",
          "output_type": "stream",
          "text": [
            "Epoch 68/90: 100%|██████████| 660/660 [01:46<00:00,  6.21batch/s, loss=0.1458]\n"
          ]
        },
        {
          "name": "stdout",
          "output_type": "stream",
          "text": [
            "Epoch 68 completed. Loss: 0.1458\n"
          ]
        },
        {
          "name": "stderr",
          "output_type": "stream",
          "text": [
            "Epoch 69/90: 100%|██████████| 660/660 [01:46<00:00,  6.21batch/s, loss=0.1323]\n"
          ]
        },
        {
          "name": "stdout",
          "output_type": "stream",
          "text": [
            "Epoch 69 completed. Loss: 0.1323\n",
            "Best loss - saving model\n"
          ]
        },
        {
          "name": "stderr",
          "output_type": "stream",
          "text": [
            "Epoch 70/90: 100%|██████████| 660/660 [01:45<00:00,  6.23batch/s, loss=0.1170]\n"
          ]
        },
        {
          "name": "stdout",
          "output_type": "stream",
          "text": [
            "Epoch 70 completed. Loss: 0.1170\n",
            "Best loss - saving model\n"
          ]
        },
        {
          "name": "stderr",
          "output_type": "stream",
          "text": [
            "Epoch 71/90: 100%|██████████| 660/660 [01:46<00:00,  6.22batch/s, loss=0.1279]\n"
          ]
        },
        {
          "name": "stdout",
          "output_type": "stream",
          "text": [
            "Epoch 71 completed. Loss: 0.1279\n"
          ]
        },
        {
          "name": "stderr",
          "output_type": "stream",
          "text": [
            "Epoch 72/90: 100%|██████████| 660/660 [01:46<00:00,  6.22batch/s, loss=0.1379]\n"
          ]
        },
        {
          "name": "stdout",
          "output_type": "stream",
          "text": [
            "Epoch 72 completed. Loss: 0.1379\n"
          ]
        },
        {
          "name": "stderr",
          "output_type": "stream",
          "text": [
            "Epoch 73/90: 100%|██████████| 660/660 [01:46<00:00,  6.23batch/s, loss=0.1290]\n"
          ]
        },
        {
          "name": "stdout",
          "output_type": "stream",
          "text": [
            "Epoch 73 completed. Loss: 0.1290\n"
          ]
        },
        {
          "name": "stderr",
          "output_type": "stream",
          "text": [
            "Epoch 74/90: 100%|██████████| 660/660 [01:45<00:00,  6.23batch/s, loss=0.1303]\n"
          ]
        },
        {
          "name": "stdout",
          "output_type": "stream",
          "text": [
            "Epoch 74 completed. Loss: 0.1303\n"
          ]
        },
        {
          "name": "stderr",
          "output_type": "stream",
          "text": [
            "Epoch 75/90: 100%|██████████| 660/660 [01:46<00:00,  6.22batch/s, loss=0.1102]\n"
          ]
        },
        {
          "name": "stdout",
          "output_type": "stream",
          "text": [
            "Epoch 75 completed. Loss: 0.1102\n",
            "Best loss - saving model\n"
          ]
        },
        {
          "name": "stderr",
          "output_type": "stream",
          "text": [
            "Epoch 76/90: 100%|██████████| 660/660 [01:46<00:00,  6.23batch/s, loss=0.1183]\n"
          ]
        },
        {
          "name": "stdout",
          "output_type": "stream",
          "text": [
            "Epoch 76 completed. Loss: 0.1183\n"
          ]
        },
        {
          "name": "stderr",
          "output_type": "stream",
          "text": [
            "Epoch 77/90: 100%|██████████| 660/660 [01:45<00:00,  6.23batch/s, loss=0.1172]\n"
          ]
        },
        {
          "name": "stdout",
          "output_type": "stream",
          "text": [
            "Epoch 77 completed. Loss: 0.1172\n"
          ]
        },
        {
          "name": "stderr",
          "output_type": "stream",
          "text": [
            "Epoch 78/90: 100%|██████████| 660/660 [01:45<00:00,  6.24batch/s, loss=0.1124]\n"
          ]
        },
        {
          "name": "stdout",
          "output_type": "stream",
          "text": [
            "Epoch 78 completed. Loss: 0.1124\n"
          ]
        },
        {
          "name": "stderr",
          "output_type": "stream",
          "text": [
            "Epoch 79/90: 100%|██████████| 660/660 [01:45<00:00,  6.28batch/s, loss=0.1155]\n"
          ]
        },
        {
          "name": "stdout",
          "output_type": "stream",
          "text": [
            "Epoch 79 completed. Loss: 0.1155\n"
          ]
        },
        {
          "name": "stderr",
          "output_type": "stream",
          "text": [
            "Epoch 80/90: 100%|██████████| 660/660 [01:46<00:00,  6.22batch/s, loss=0.0985]\n"
          ]
        },
        {
          "name": "stdout",
          "output_type": "stream",
          "text": [
            "Epoch 80 completed. Loss: 0.0985\n",
            "Best loss - saving model\n"
          ]
        },
        {
          "name": "stderr",
          "output_type": "stream",
          "text": [
            "Epoch 81/90: 100%|██████████| 660/660 [01:46<00:00,  6.22batch/s, loss=0.0989]\n"
          ]
        },
        {
          "name": "stdout",
          "output_type": "stream",
          "text": [
            "Epoch 81 completed. Loss: 0.0989\n"
          ]
        },
        {
          "name": "stderr",
          "output_type": "stream",
          "text": [
            "Epoch 82/90: 100%|██████████| 660/660 [01:46<00:00,  6.21batch/s, loss=0.0994]\n"
          ]
        },
        {
          "name": "stdout",
          "output_type": "stream",
          "text": [
            "Epoch 82 completed. Loss: 0.0994\n"
          ]
        },
        {
          "name": "stderr",
          "output_type": "stream",
          "text": [
            "Epoch 83/90: 100%|██████████| 660/660 [01:45<00:00,  6.23batch/s, loss=0.0814]\n"
          ]
        },
        {
          "name": "stdout",
          "output_type": "stream",
          "text": [
            "Epoch 83 completed. Loss: 0.0814\n",
            "Best loss - saving model\n"
          ]
        },
        {
          "name": "stderr",
          "output_type": "stream",
          "text": [
            "Epoch 84/90: 100%|██████████| 660/660 [01:46<00:00,  6.23batch/s, loss=0.0964]\n"
          ]
        },
        {
          "name": "stdout",
          "output_type": "stream",
          "text": [
            "Epoch 84 completed. Loss: 0.0964\n"
          ]
        },
        {
          "name": "stderr",
          "output_type": "stream",
          "text": [
            "Epoch 85/90: 100%|██████████| 660/660 [01:46<00:00,  6.22batch/s, loss=0.0850]\n"
          ]
        },
        {
          "name": "stdout",
          "output_type": "stream",
          "text": [
            "Epoch 85 completed. Loss: 0.0850\n"
          ]
        },
        {
          "name": "stderr",
          "output_type": "stream",
          "text": [
            "Epoch 86/90: 100%|██████████| 660/660 [01:45<00:00,  6.23batch/s, loss=0.0882]\n"
          ]
        },
        {
          "name": "stdout",
          "output_type": "stream",
          "text": [
            "Epoch 86 completed. Loss: 0.0882\n"
          ]
        },
        {
          "name": "stderr",
          "output_type": "stream",
          "text": [
            "Epoch 87/90: 100%|██████████| 660/660 [01:45<00:00,  6.24batch/s, loss=0.0887]\n"
          ]
        },
        {
          "name": "stdout",
          "output_type": "stream",
          "text": [
            "Epoch 87 completed. Loss: 0.0887\n"
          ]
        },
        {
          "name": "stderr",
          "output_type": "stream",
          "text": [
            "Epoch 88/90: 100%|██████████| 660/660 [01:45<00:00,  6.23batch/s, loss=0.0983]\n"
          ]
        },
        {
          "name": "stdout",
          "output_type": "stream",
          "text": [
            "Epoch 88 completed. Loss: 0.0983\n"
          ]
        },
        {
          "name": "stderr",
          "output_type": "stream",
          "text": [
            "Epoch 89/90: 100%|██████████| 660/660 [01:46<00:00,  6.23batch/s, loss=0.0961]\n"
          ]
        },
        {
          "name": "stdout",
          "output_type": "stream",
          "text": [
            "Epoch 89 completed. Loss: 0.0961\n"
          ]
        },
        {
          "name": "stderr",
          "output_type": "stream",
          "text": [
            "Epoch 90/90: 100%|██████████| 660/660 [01:45<00:00,  6.24batch/s, loss=0.0845]"
          ]
        },
        {
          "name": "stdout",
          "output_type": "stream",
          "text": [
            "Epoch 90 completed. Loss: 0.0845\n",
            "Training completed. Best loss: 0.0814\n"
          ]
        },
        {
          "name": "stderr",
          "output_type": "stream",
          "text": [
            "\n"
          ]
        }
      ],
      "source": [
        "import os\n",
        "import math\n",
        "import time\n",
        "import torch\n",
        "import torch.nn as nn\n",
        "from torch.nn import functional as F\n",
        "from dataclasses import dataclass\n",
        "from tqdm import tqdm\n",
        "\n",
        "%pip install tiktoken\n",
        "import tiktoken\n",
        "\n",
        "@dataclass\n",
        "class GPTConfig:\n",
        "    block_size: int = 1024  \n",
        "    vocab_size: int = 50257  \n",
        "    n_layer: int = 12  \n",
        "    n_head: int = 12  \n",
        "    n_embd: int = 768  \n",
        "\n",
        "class CausalSelfAttention(nn.Module):\n",
        "    def __init__(self, config):\n",
        "        super().__init__()\n",
        "        assert config.n_embd % config.n_head == 0\n",
        "        self.c_attn = nn.Linear(config.n_embd, 3 * config.n_embd)\n",
        "        self.c_proj = nn.Linear(config.n_embd, config.n_embd)\n",
        "        self.n_head = config.n_head\n",
        "        self.n_embd = config.n_embd\n",
        "        self.register_buffer(\"bias\", torch.tril(torch.ones(config.block_size, config.block_size)).view(1, 1, config.block_size, config.block_size))\n",
        "\n",
        "    def forward(self, x):\n",
        "        B, T, C = x.size()\n",
        "        qkv = self.c_attn(x)\n",
        "        q, k, v = qkv.split(self.n_embd, dim=2)\n",
        "        k = k.view(B, T, self.n_head, C // self.n_head).transpose(1, 2)\n",
        "        q = q.view(B, T, self.n_head, C // self.n_head).transpose(1, 2)\n",
        "        v = v.view(B, T, self.n_head, C // self.n_head).transpose(1, 2)\n",
        "\n",
        "        att = (q @ k.transpose(-2, -1)) * (1.0 / math.sqrt(k.size(-1)))\n",
        "        att = att.masked_fill(self.bias[:, :, :T, :T] == 0, float('-inf'))\n",
        "        att = F.softmax(att, dim=-1)\n",
        "        y = att @ v\n",
        "        y = y.transpose(1, 2).contiguous().view(B, T, C)\n",
        "        y = self.c_proj(y)\n",
        "        return y\n",
        "\n",
        "class MLP(nn.Module):\n",
        "    def __init__(self, config):\n",
        "        super().__init__()\n",
        "        self.c_fc = nn.Linear(config.n_embd, 4 * config.n_embd)\n",
        "        self.gelu = nn.GELU(approximate='tanh')\n",
        "        self.c_proj = nn.Linear(4 * config.n_embd, config.n_embd)\n",
        "\n",
        "    def forward(self, x):\n",
        "        x = self.c_fc(x)\n",
        "        x = self.gelu(x)\n",
        "        x = self.c_proj(x)\n",
        "        return x\n",
        "\n",
        "class Block(nn.Module):\n",
        "    def __init__(self, config):\n",
        "        super().__init__()\n",
        "        self.ln_1 = nn.LayerNorm(config.n_embd)\n",
        "        self.attn = CausalSelfAttention(config)\n",
        "        self.ln_2 = nn.LayerNorm(config.n_embd)\n",
        "        self.mlp = MLP(config)\n",
        "\n",
        "    def forward(self, x):\n",
        "        x = x + self.attn(self.ln_1(x))\n",
        "        x = x + self.mlp(self.ln_2(x))\n",
        "        return x\n",
        "\n",
        "class GPT(nn.Module):\n",
        "    def __init__(self, config):\n",
        "        super().__init__()\n",
        "        self.config = config\n",
        "        self.transformer = nn.ModuleDict(dict(\n",
        "            wte=nn.Embedding(config.vocab_size, config.n_embd),\n",
        "            wpe=nn.Embedding(config.block_size, config.n_embd),\n",
        "            h=nn.ModuleList([Block(config) for _ in range(config.n_layer)]),\n",
        "            ln_f=nn.LayerNorm(config.n_embd),\n",
        "        ))\n",
        "        self.lm_head = nn.Linear(config.n_embd, config.vocab_size, bias=False)\n",
        "        self.transformer.wte.weight = self.lm_head.weight\n",
        "        self.apply(self._init_weights)\n",
        "\n",
        "    def _init_weights(self, module):\n",
        "        if isinstance(module, nn.Linear):\n",
        "            std = 0.02\n",
        "            torch.nn.init.normal_(module.weight, mean=0.0, std=std)\n",
        "            if module.bias is not None:\n",
        "                torch.nn.init.zeros_(module.bias)\n",
        "        elif isinstance(module, nn.Embedding):\n",
        "            torch.nn.init.normal_(module.weight, mean=0.0, std=0.02)\n",
        "\n",
        "    def forward(self, idx, targets=None):\n",
        "        B, T = idx.size()\n",
        "        assert T <= self.config.block_size, f\"Cannot forward sequence of length {T}, block size is only {self.config.block_size}\"\n",
        "        pos = torch.arange(0, T, dtype=torch.long, device=idx.device)\n",
        "        pos_emb = self.transformer.wpe(pos)\n",
        "        tok_emb = self.transformer.wte(idx)\n",
        "        x = tok_emb + pos_emb\n",
        "        for block in self.transformer.h:\n",
        "            x = block(x)\n",
        "        x = self.transformer.ln_f(x)\n",
        "        logits = self.lm_head(x)\n",
        "        loss = None\n",
        "        if targets is not None:\n",
        "            loss = F.cross_entropy(logits.view(-1, logits.size(-1)), targets.view(-1))\n",
        "        return logits, loss\n",
        "\n",
        "class DataLoaderLite:\n",
        "    def __init__(self, B, T):\n",
        "        self.B = B\n",
        "        self.T = T\n",
        "        with open('input.txt', 'r') as f:\n",
        "            text = f.read()\n",
        "        enc = tiktoken.get_encoding('gpt2')\n",
        "        tokens = enc.encode(text)\n",
        "        self.tokens = torch.tensor(tokens)\n",
        "        self.current_position = 0\n",
        "\n",
        "    def next_batch(self):\n",
        "        B, T = self.B, self.T\n",
        "        buf = self.tokens[self.current_position:self.current_position + B * T + 1]\n",
        "        x = (buf[:-1]).view(B, T)\n",
        "        y = (buf[1:]).view(B, T)\n",
        "        self.current_position += B * T\n",
        "        if self.current_position + (B * T + 1) > len(self.tokens):\n",
        "            self.current_position = 0\n",
        "        return x, y\n",
        "\n",
        "if __name__ == \"__main__\":\n",
        "\n",
        "    device = 'cpu'\n",
        "    if torch.cuda.is_available():\n",
        "        device = 'cuda'\n",
        "    print(f\"using device: {device}\")\n",
        "\n",
        "\n",
        "    model = GPT(GPTConfig())\n",
        "    model.to(device)\n",
        "\n",
        "    # Print total parameters\n",
        "    total_params = sum(p.numel() for p in model.parameters())\n",
        "    print(f'Total parameters: {total_params:,}')\n",
        "\n",
        "    train_loader = DataLoaderLite(B=4,T=128)\n",
        "\n",
        "    num_epochs = 90\n",
        "    optimizer = torch.optim.AdamW(model.parameters(), lr=3e-4)\n",
        "    n_batches = len(train_loader.tokens) // (train_loader.B * train_loader.T)\n",
        "    best_loss = float('inf')\n",
        "    running_loss = 0.0\n",
        "\n",
        "    for epoch in range(num_epochs):\n",
        "        progress_bar = tqdm(range(n_batches), desc=f'Epoch {epoch + 1}/{num_epochs}', unit='batch')\n",
        "\n",
        "        for i in progress_bar:\n",
        "            x, y = train_loader.next_batch()\n",
        "            x, y = x.to(device), y.to(device)\n",
        "            optimizer.zero_grad()\n",
        "            logits, loss = model(x, y)\n",
        "            loss.backward()\n",
        "            optimizer.step()\n",
        "\n",
        "           \n",
        "            running_loss = 0.9 * running_loss + 0.1 * loss.item()  \n",
        "            progress_bar.set_postfix({'loss': f'{running_loss:.4f}'})\n",
        "\n",
        "        print(f'Epoch {epoch + 1} completed. Loss: {running_loss:.4f}')\n",
        "\n",
        "        # Saving the best model\n",
        "        if running_loss < best_loss:\n",
        "            best_loss = running_loss\n",
        "            print(f'Best loss - saving model')\n",
        "            torch.save(model.state_dict(), 'best_model.pt')\n",
        "\n",
        "    print(f'Training completed. Best loss: {best_loss:.4f}')"
      ]
    }
  ],
  "metadata": {
    "accelerator": "GPU",
    "colab": {
      "gpuType": "T4",
      "provenance": []
    },
    "kernelspec": {
      "display_name": "Python 3",
      "name": "python3"
    },
    "language_info": {
      "name": "python"
    }
  },
  "nbformat": 4,
  "nbformat_minor": 0
}
